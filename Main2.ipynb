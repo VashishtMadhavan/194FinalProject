{
 "cells": [
  {
   "cell_type": "code",
   "execution_count": 6,
   "metadata": {
    "collapsed": true
   },
   "outputs": [],
   "source": [
    "import cv2\n",
    "import cv\n",
    "import numpy as np\n",
    "import matplotlib.pyplot as plt\n",
    "import skimage.io as skio\n",
    "from sklearn.cluster import k_means\n",
    "from sklearn.decomposition import PCA\n",
    "from scipy.fftpack import dct\n",
    "from sklearn import preprocessing\n",
    "from sklearn.svm import SVC\n",
    "from featurizer import Featurizer,convert_lab\n",
    "from colorizer import Colorizer"
   ]
  },
  {
   "cell_type": "code",
   "execution_count": 5,
   "metadata": {
    "collapsed": true
   },
   "outputs": [],
   "source": [
    "test_image = skio.imread(\"images/grass4.jpg\")\n",
    "training_images = [\"images/grass1.jpg\",\"images/grass3.jpg\"]"
   ]
  },
  {
   "cell_type": "code",
   "execution_count": 4,
   "metadata": {
    "collapsed": true
   },
   "outputs": [],
   "source": [
    "def get_grayscale(image):\n",
    "    gray = cv2.cvtColor(image, cv.CV_RGB2GRAY)\n",
    "    return cv2.merge((gray,gray,gray))\n",
    "\n",
    "def select_hyperparams(k,pc,actual_image):\n",
    "    #getting the right featurizer\n",
    "    f = Featurizer(training_images,k=k,pca_size=pc,num_samples=20000)\n",
    "    f.compute_k_means()\n",
    "    print \"Getting features...\"\n",
    "    f.compute_features()\n",
    "    #getting the right colorizer\n",
    "    colorizer = Colorizer(f)\n",
    "    print \"Starting Training of SVMs...\"\n",
    "    colorizer.train()\n",
    "    #running the experiment\n",
    "    print \"Colorizing Image...\"\n",
    "    gray_test = get_grayscale(actual_image)\n",
    "    colored_image = colorizer.color_image(gray_test)\n",
    "    print \"K: \" + str(k)\n",
    "    print \"PCA Size: \" + str(pc)    \n",
    "    print \"********************************\"\n",
    "    skio.imshow(colored_image)\n",
    "    skio.show()"
   ]
  },
  {
   "cell_type": "code",
   "execution_count": 3,
   "metadata": {
    "collapsed": true
   },
   "outputs": [],
   "source": [
    "windowSizes = [5,10,20]\n",
    "gamma = [1.0/32,1.0/64,1.0/16]\n",
    "c = [.5,1.5]\n",
    "#k= [10,15,25]\n",
    "k = [16,64]\n",
    "pc = [16,64,128]"
   ]
  },
  {
   "cell_type": "code",
   "execution_count": null,
   "metadata": {
    "collapsed": true
   },
   "outputs": [],
   "source": [
    "%matplotlib inline  \n",
    "for k_i in k:\n",
    "    for p_i in pc:\n",
    "        select_hyperparams(k_i,p_i,test_image)"
   ]
  },
  {
   "cell_type": "code",
   "execution_count": null,
   "metadata": {
    "collapsed": true
   },
   "outputs": [],
   "source": []
  }
 ],
 "metadata": {
  "kernelspec": {
   "display_name": "Python 2",
   "language": "python",
   "name": "python2"
  },
  "language_info": {
   "codemirror_mode": {
    "name": "ipython",
    "version": 2
   },
   "file_extension": ".py",
   "mimetype": "text/x-python",
   "name": "python",
   "nbconvert_exporter": "python",
   "pygments_lexer": "ipython2",
   "version": "2.7.6"
  }
 },
 "nbformat": 4,
 "nbformat_minor": 0
}
